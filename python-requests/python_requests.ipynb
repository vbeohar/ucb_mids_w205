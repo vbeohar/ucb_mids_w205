{
 "cells": [
  {
   "cell_type": "markdown",
   "metadata": {},
   "source": [
    "### Demonstration of how to use the Python requests module \n",
    "* pulling down a plain vanilla web page (html, javascript, etc.)\n",
    "  * checking the return code\n",
    "  * getting the headers\n",
    "  * getting the web page content (html, javascript, etc.)\n",
    "* web api calls\n",
    "  * passing parameters in json format\n",
    "  * receiving responses in json format\n",
    "* downloading a text file or binary file of any type from the internet\n",
    "* downloading a zip file from the internet and unzipping it"
   ]
  },
  {
   "cell_type": "code",
   "execution_count": 1,
   "metadata": {},
   "outputs": [],
   "source": [
    "import requests\n",
    "import os\n",
    "import zipfile"
   ]
  },
  {
   "cell_type": "markdown",
   "metadata": {},
   "source": [
    "#### Plain Vanilla Web Page\n",
    "We will start with a plain vanilla web page using the google.com landing page.  \n",
    "The get() method corresponds to the http GET."
   ]
  },
  {
   "cell_type": "code",
   "execution_count": 2,
   "metadata": {},
   "outputs": [],
   "source": [
    "r = requests.get(\"https://google.com\")"
   ]
  },
  {
   "cell_type": "markdown",
   "metadata": {},
   "source": [
    "Check the status code, 200 means ok, errors would be like 401, 404, etc."
   ]
  },
  {
   "cell_type": "code",
   "execution_count": 3,
   "metadata": {
    "collapsed": false,
    "jupyter": {
     "outputs_hidden": false
    }
   },
   "outputs": [
    {
     "data": {
      "text/plain": [
       "200"
      ]
     },
     "execution_count": 3,
     "metadata": {},
     "output_type": "execute_result"
    }
   ],
   "source": [
    "r.status_code"
   ]
  },
  {
   "cell_type": "markdown",
   "metadata": {},
   "source": [
    "We can easily retrieve the http headers in dictionary form in Python"
   ]
  },
  {
   "cell_type": "code",
   "execution_count": 4,
   "metadata": {
    "collapsed": false,
    "jupyter": {
     "outputs_hidden": false
    },
    "scrolled": true
   },
   "outputs": [
    {
     "data": {
      "text/plain": [
       "{'Server': 'gws', 'Transfer-Encoding': 'chunked', 'Set-Cookie': '1P_JAR=2020-03-13-02; expires=Sun, 12-Apr-2020 02:48:47 GMT; path=/; domain=.google.com; Secure, NID=200=nLmTzEg44WRXGZxu7sVhElMP9US_s65PftANHl3ozfna6bNKQuqMz39mOeKjLUICQLc0yKr7zLaEEG9dD5v1jXXyD25fqj8Pzq6abAW4yIrdIUd--mc_k3K8KIfLp2U66oLx4vdvrawfnHvRt9UMg7Qt954Fd-zp2shbrakFyOY; expires=Sat, 12-Sep-2020 02:48:47 GMT; path=/; domain=.google.com; HttpOnly', 'Content-Type': 'text/html; charset=ISO-8859-1', 'Expires': '-1', 'Content-Encoding': 'gzip', 'X-XSS-Protection': '0', 'Date': 'Fri, 13 Mar 2020 02:48:47 GMT', 'P3P': 'CP=\"This is not a P3P policy! See g.co/p3phelp for more info.\"', 'X-Frame-Options': 'SAMEORIGIN', 'Cache-Control': 'private, max-age=0'}"
      ]
     },
     "execution_count": 4,
     "metadata": {},
     "output_type": "execute_result"
    }
   ],
   "source": [
    "r.headers"
   ]
  },
  {
   "cell_type": "markdown",
   "metadata": {},
   "source": [
    "We can easily retrive the text of the webpage (html, http, etc.)  With google.com, as you can see the html is really long, so we will only look at the first 500 characters"
   ]
  },
  {
   "cell_type": "code",
   "execution_count": 5,
   "metadata": {
    "collapsed": false,
    "jupyter": {
     "outputs_hidden": false
    }
   },
   "outputs": [
    {
     "data": {
      "text/plain": [
       "12597"
      ]
     },
     "execution_count": 5,
     "metadata": {},
     "output_type": "execute_result"
    }
   ],
   "source": [
    "len(r.text)"
   ]
  },
  {
   "cell_type": "code",
   "execution_count": 6,
   "metadata": {
    "collapsed": false,
    "jupyter": {
     "outputs_hidden": false
    },
    "scrolled": true
   },
   "outputs": [
    {
     "data": {
      "text/plain": [
       "'<!doctype html><html itemscope=\"\" itemtype=\"http://schema.org/WebPage\" lang=\"en\"><head><meta content=\"Search the world\\'s information, including webpages, images, videos and more. Google has many special features to help you find exactly what you\\'re looking for.\" name=\"description\"><meta content=\"noodp\" name=\"robots\"><meta content=\"text/html; charset=UTF-8\" http-equiv=\"Content-Type\"><meta content=\"/images/branding/googleg/1x/googleg_standard_color_128dp.png\" itemprop=\"image\"><title>Google</title>'"
      ]
     },
     "execution_count": 6,
     "metadata": {},
     "output_type": "execute_result"
    }
   ],
   "source": [
    "# it's long so let's just see the first 500 characters of the html returned\n",
    "r.text[0:500]"
   ]
  },
  {
   "cell_type": "markdown",
   "metadata": {},
   "source": [
    "#### Web API Call\n",
    "We will now make a web API call. We will send json as the \"payload\" and receive json back.\n",
    "The post() method corresponds to an http POST. The data keywork argument is a python dictionary with the payload.\n",
    "The json() method takes the response text and formats it into a python dictionary."
   ]
  },
  {
   "cell_type": "code",
   "execution_count": 7,
   "metadata": {},
   "outputs": [],
   "source": [
    "r = requests.post('http://httpbin.org/post', data = {'key':'value'})"
   ]
  },
  {
   "cell_type": "code",
   "execution_count": 8,
   "metadata": {
    "collapsed": false,
    "jupyter": {
     "outputs_hidden": false
    }
   },
   "outputs": [
    {
     "data": {
      "text/plain": [
       "200"
      ]
     },
     "execution_count": 8,
     "metadata": {},
     "output_type": "execute_result"
    }
   ],
   "source": [
    "r.status_code"
   ]
  },
  {
   "cell_type": "code",
   "execution_count": 9,
   "metadata": {
    "collapsed": false,
    "jupyter": {
     "outputs_hidden": false
    }
   },
   "outputs": [
    {
     "data": {
      "text/plain": [
       "'{\\n  \"args\": {}, \\n  \"data\": \"\", \\n  \"files\": {}, \\n  \"form\": {\\n    \"key\": \"value\"\\n  }, \\n  \"headers\": {\\n    \"Accept\": \"*/*\", \\n    \"Accept-Encoding\": \"gzip, deflate\", \\n    \"Content-Length\": \"9\", \\n    \"Content-Type\": \"application/x-www-form-urlencoded\", \\n    \"Host\": \"httpbin.org\", \\n    \"User-Agent\": \"python-requests/2.22.0\", \\n    \"X-Amzn-Trace-Id\": \"Root=1-5e6af4c8-b25ecc6ab6c0f9fcbe0992d5\"\\n  }, \\n  \"json\": null, \\n  \"origin\": \"34.82.102.252\", \\n  \"url\": \"http://httpbin.org/post\"\\n}\\n'"
      ]
     },
     "execution_count": 9,
     "metadata": {},
     "output_type": "execute_result"
    }
   ],
   "source": [
    "r.text"
   ]
  },
  {
   "cell_type": "code",
   "execution_count": 10,
   "metadata": {
    "collapsed": false,
    "jupyter": {
     "outputs_hidden": false
    }
   },
   "outputs": [
    {
     "data": {
      "text/plain": [
       "{'args': {},\n",
       " 'data': '',\n",
       " 'files': {},\n",
       " 'form': {'key': 'value'},\n",
       " 'headers': {'Accept': '*/*',\n",
       "  'Accept-Encoding': 'gzip, deflate',\n",
       "  'Content-Length': '9',\n",
       "  'Content-Type': 'application/x-www-form-urlencoded',\n",
       "  'Host': 'httpbin.org',\n",
       "  'User-Agent': 'python-requests/2.22.0',\n",
       "  'X-Amzn-Trace-Id': 'Root=1-5e6af4c8-b25ecc6ab6c0f9fcbe0992d5'},\n",
       " 'json': None,\n",
       " 'origin': '34.82.102.252',\n",
       " 'url': 'http://httpbin.org/post'}"
      ]
     },
     "execution_count": 10,
     "metadata": {},
     "output_type": "execute_result"
    }
   ],
   "source": [
    "r.json()"
   ]
  },
  {
   "cell_type": "markdown",
   "metadata": {},
   "source": [
    "#### Another Web API Call Example\n",
    "Here is an example of another web API call to a website that gives position information on the internal space station and returns it in json format.  It does not need parameters, so we don't need to pass a payload, so we will use the get() method.\n",
    "\n",
    "You may want to check out their website for more API calls to try:\n",
    "\n",
    "https://wheretheiss.at/w/developer"
   ]
  },
  {
   "cell_type": "code",
   "execution_count": 11,
   "metadata": {},
   "outputs": [],
   "source": [
    "r = requests.get('https://api.wheretheiss.at/v1/satellites/25544')"
   ]
  },
  {
   "cell_type": "code",
   "execution_count": 12,
   "metadata": {
    "collapsed": false,
    "jupyter": {
     "outputs_hidden": false
    }
   },
   "outputs": [
    {
     "data": {
      "text/plain": [
       "200"
      ]
     },
     "execution_count": 12,
     "metadata": {},
     "output_type": "execute_result"
    }
   ],
   "source": [
    "r.status_code"
   ]
  },
  {
   "cell_type": "code",
   "execution_count": 13,
   "metadata": {
    "collapsed": false,
    "jupyter": {
     "outputs_hidden": false
    }
   },
   "outputs": [
    {
     "data": {
      "text/plain": [
       "'{\"name\":\"iss\",\"id\":25544,\"latitude\":45.075596163903,\"longitude\":18.03060275397,\"altitude\":423.94262929349,\"velocity\":27584.862144942,\"visibility\":\"eclipsed\",\"footprint\":4527.4676439218,\"timestamp\":1584067793,\"daynum\":2458921.6179745,\"solar_lat\":-2.7794548550903,\"solar_lon\":139.89418619419,\"units\":\"kilometers\"}'"
      ]
     },
     "execution_count": 13,
     "metadata": {},
     "output_type": "execute_result"
    }
   ],
   "source": [
    "r.text"
   ]
  },
  {
   "cell_type": "code",
   "execution_count": 14,
   "metadata": {
    "collapsed": false,
    "jupyter": {
     "outputs_hidden": false
    }
   },
   "outputs": [
    {
     "data": {
      "text/plain": [
       "{'altitude': 423.94262929349,\n",
       " 'daynum': 2458921.6179745,\n",
       " 'footprint': 4527.4676439218,\n",
       " 'id': 25544,\n",
       " 'latitude': 45.075596163903,\n",
       " 'longitude': 18.03060275397,\n",
       " 'name': 'iss',\n",
       " 'solar_lat': -2.7794548550903,\n",
       " 'solar_lon': 139.89418619419,\n",
       " 'timestamp': 1584067793,\n",
       " 'units': 'kilometers',\n",
       " 'velocity': 27584.862144942,\n",
       " 'visibility': 'eclipsed'}"
      ]
     },
     "execution_count": 14,
     "metadata": {},
     "output_type": "execute_result"
    }
   ],
   "source": [
    "r.json()"
   ]
  },
  {
   "cell_type": "markdown",
   "metadata": {},
   "source": [
    "#### Download an Excel File from the internet \n",
    "We will now download an excel file from the internet.  This same method works with any file you want to download, a text file, or any other binary file, such as Word, pdf, images such as jpeg, videos such as mp4, a zip file, a tarball file, etc.  Basically any file.\n",
    "\n",
    "We simply call the get() method and the r.content attribute will hold the data in binary format with encoding.  We can them open a file in wb mode (write binary), write the contents, and close the file."
   ]
  },
  {
   "cell_type": "code",
   "execution_count": 15,
   "metadata": {},
   "outputs": [],
   "source": [
    "r = requests.get('http://kevincrook.com/ucb/data/coffee_chain.xlsx')"
   ]
  },
  {
   "cell_type": "code",
   "execution_count": 16,
   "metadata": {
    "collapsed": false,
    "jupyter": {
     "outputs_hidden": false
    }
   },
   "outputs": [
    {
     "data": {
      "text/plain": [
       "200"
      ]
     },
     "execution_count": 16,
     "metadata": {},
     "output_type": "execute_result"
    }
   ],
   "source": [
    "r.status_code"
   ]
  },
  {
   "cell_type": "code",
   "execution_count": 17,
   "metadata": {
    "collapsed": false,
    "jupyter": {
     "outputs_hidden": false
    }
   },
   "outputs": [
    {
     "data": {
      "text/plain": [
       "b'PK\\x03\\x04\\x14\\x00\\x06\\x00\\x08\\x00\\x00\\x00!\\x00\\x9c\\xd7\\xfc\\xa8^\\x01\\x00\\x00<\\x04\\x00\\x00\\x13\\x00\\xcf\\x01[Content_Types].xml \\xa2\\xcb\\x01(\\xa0\\x00\\x02\\x00\\x00\\x00\\x00\\x00\\x00\\x00\\x00\\x00\\x00\\x00\\x00\\x00\\x00\\x00\\x00\\x00\\x00\\x00\\x00\\x00\\x00\\x00\\x00\\x00\\x00\\x00\\x00\\x00\\x00\\x00\\x00\\x00\\x00\\x00\\x00\\x00\\x00\\x00\\x00\\x00\\x00\\x00'"
      ]
     },
     "execution_count": 17,
     "metadata": {},
     "output_type": "execute_result"
    }
   ],
   "source": [
    "r.content[0:100]"
   ]
  },
  {
   "cell_type": "code",
   "execution_count": 18,
   "metadata": {
    "collapsed": false,
    "jupyter": {
     "outputs_hidden": false
    }
   },
   "outputs": [],
   "source": [
    "f = open(\"coffee_chain.xlsx\", \"wb\")"
   ]
  },
  {
   "cell_type": "code",
   "execution_count": 19,
   "metadata": {
    "collapsed": false,
    "jupyter": {
     "outputs_hidden": false
    }
   },
   "outputs": [
    {
     "data": {
      "text/plain": [
       "423875"
      ]
     },
     "execution_count": 19,
     "metadata": {},
     "output_type": "execute_result"
    }
   ],
   "source": [
    "f.write(r.content)"
   ]
  },
  {
   "cell_type": "code",
   "execution_count": 20,
   "metadata": {},
   "outputs": [],
   "source": [
    "f.close()"
   ]
  },
  {
   "cell_type": "markdown",
   "metadata": {},
   "source": [
    "#### Download a Zip File from the Internet and Unzip it\n",
    "We will download a zip file from the internet using the previous method of downloading a binary file.\n",
    "\n",
    "Using the os module, we will make a temporary directory to hold the zip file.  We will also use this same directory to unzip the contents.\n",
    "\n",
    "We will use the zipfile module to unzip the file."
   ]
  },
  {
   "cell_type": "code",
   "execution_count": 21,
   "metadata": {},
   "outputs": [],
   "source": [
    "r = requests.get('http://kevincrook.com/ucb/data/Hospital_Compare_Data_OpenRefine_Breakout.zip')"
   ]
  },
  {
   "cell_type": "code",
   "execution_count": 23,
   "metadata": {
    "collapsed": false,
    "jupyter": {
     "outputs_hidden": false
    }
   },
   "outputs": [
    {
     "data": {
      "text/plain": [
       "200"
      ]
     },
     "execution_count": 23,
     "metadata": {},
     "output_type": "execute_result"
    }
   ],
   "source": [
    "r.status_code"
   ]
  },
  {
   "cell_type": "code",
   "execution_count": 24,
   "metadata": {
    "collapsed": false,
    "jupyter": {
     "outputs_hidden": false
    }
   },
   "outputs": [
    {
     "data": {
      "text/plain": [
       "'/home/jupyter/w205/python-requests'"
      ]
     },
     "execution_count": 24,
     "metadata": {},
     "output_type": "execute_result"
    }
   ],
   "source": [
    "os.getcwd()"
   ]
  },
  {
   "cell_type": "code",
   "execution_count": 25,
   "metadata": {
    "collapsed": false,
    "jupyter": {
     "outputs_hidden": false
    }
   },
   "outputs": [],
   "source": [
    "if not os.path.exists(\"temp_zip\"):\n",
    "    os.mkdir(\"temp_zip\")"
   ]
  },
  {
   "cell_type": "code",
   "execution_count": 26,
   "metadata": {
    "collapsed": false,
    "jupyter": {
     "outputs_hidden": false
    }
   },
   "outputs": [
    {
     "data": {
      "text/plain": [
       "'temp_zip/Hospital_Compare_Data_OpenRefine_Breakout.zip'"
      ]
     },
     "execution_count": 26,
     "metadata": {},
     "output_type": "execute_result"
    }
   ],
   "source": [
    "dir_file = os.path.join(\"temp_zip\", \"Hospital_Compare_Data_OpenRefine_Breakout.zip\" )\n",
    "dir_file"
   ]
  },
  {
   "cell_type": "code",
   "execution_count": 27,
   "metadata": {},
   "outputs": [],
   "source": [
    "f = open(dir_file, \"wb\")"
   ]
  },
  {
   "cell_type": "code",
   "execution_count": 28,
   "metadata": {
    "collapsed": false,
    "jupyter": {
     "outputs_hidden": false
    }
   },
   "outputs": [
    {
     "data": {
      "text/plain": [
       "3149304"
      ]
     },
     "execution_count": 28,
     "metadata": {},
     "output_type": "execute_result"
    }
   ],
   "source": [
    "f.write(r.content)"
   ]
  },
  {
   "cell_type": "code",
   "execution_count": 29,
   "metadata": {},
   "outputs": [],
   "source": [
    "f.close()"
   ]
  },
  {
   "cell_type": "code",
   "execution_count": 30,
   "metadata": {},
   "outputs": [],
   "source": [
    "z = zipfile.ZipFile(dir_file, \"r\")"
   ]
  },
  {
   "cell_type": "code",
   "execution_count": 31,
   "metadata": {},
   "outputs": [],
   "source": [
    "z.extractall(\"temp_zip\")"
   ]
  },
  {
   "cell_type": "code",
   "execution_count": 32,
   "metadata": {},
   "outputs": [],
   "source": [
    "z.close()"
   ]
  },
  {
   "cell_type": "code",
   "execution_count": null,
   "metadata": {
    "collapsed": true,
    "jupyter": {
     "outputs_hidden": true
    }
   },
   "outputs": [],
   "source": []
  }
 ],
 "metadata": {
  "kernelspec": {
   "display_name": "Python 3",
   "language": "python",
   "name": "python3"
  },
  "language_info": {
   "codemirror_mode": {
    "name": "ipython",
    "version": 3
   },
   "file_extension": ".py",
   "mimetype": "text/x-python",
   "name": "python",
   "nbconvert_exporter": "python",
   "pygments_lexer": "ipython3",
   "version": "3.5.3"
  }
 },
 "nbformat": 4,
 "nbformat_minor": 4
}
