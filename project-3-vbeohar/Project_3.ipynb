{
 "cells": [
  {
   "cell_type": "markdown",
   "metadata": {
    "collapsed": true
   },
   "source": [
    "## Project 3: Understanding User Behavior\n",
    "### Vaibhav Beohar - UC Berkeley MIDS - Spring 2020 - Section 4"
   ]
  },
  {
   "cell_type": "markdown",
   "metadata": {},
   "source": [
    "### Quick Introduction to Project 3\n",
    "\n",
    "The commands run in this notebook, as part of project 3, attempt to do the following:\n",
    "\n",
    "<li>Invoke a Flask web-server (executed via `game_api.py`) to log events to Kafka</li>\n",
    "\n",
    "<li>Assemble a data pipeline to catch these events: use Spark streaming to filter select event types from Kafka; land them into HDFS/parquet to make them available</li>\n",
    "\n",
    "<li>Use Apache Bench to generate test data for our pipeline</li>\n",
    "\n",
    "<li>Produce a simple set of analytics commands for basic analysis of the events</li>\n",
    "\n",
    "\n",
    "Included in the git commit are the following: \n",
    "<li>`docker-compose.yml`</li>\n",
    "<li>`game_api.py`</li>\n",
    "<li>`project_3`</li>\n",
    "\n",
    "Included in the `game_api.py` file (based on week 12) for the flask web api server are code added for \"join guild\" and \"purchase sword\" user events.\n",
    "\n",
    "This Project_3.ipynb Jupyter Notebook has the code from the spark-submit job file `filtered_writes.py` implicitly included. It has been modified to work in a jupyter notebook with pyspark kernel. \n",
    "\n",
    "Additionally, include in this notebook is pyspark code (from week 12 from the MIDS Spring 2020 synch-section 4 class), which reads from the parquet files into a spark dataframe, registers as a temp table, and executes sql queries agains the dataframe in memory, and then converts to Pandas dataframe.\n",
    "\n",
    "######  Please also find included in the GIT repo, command history that was executed to perform all operations for this project submission (`Commands_VBeohar_history.txt`)"
   ]
  },
  {
   "cell_type": "code",
   "execution_count": null,
   "metadata": {
    "collapsed": true
   },
   "outputs": [],
   "source": [
    "import json\n",
    "from pyspark.sql import Row\n",
    "from pyspark.sql.functions import udf\n",
    "import matplotlib.pyplot as plt"
   ]
  },
  {
   "cell_type": "code",
   "execution_count": 2,
   "metadata": {},
   "outputs": [
    {
     "data": {
      "text/html": [
       "\n",
       "        <div>\n",
       "            <p><b>SparkContext</b></p>\n",
       "\n",
       "            <p><a href=\"http://172.18.0.5:4040\">Spark UI</a></p>\n",
       "\n",
       "            <dl>\n",
       "              <dt>Version</dt>\n",
       "                <dd><code>v2.2.0</code></dd>\n",
       "              <dt>Master</dt>\n",
       "                <dd><code>local[*]</code></dd>\n",
       "              <dt>AppName</dt>\n",
       "                <dd><code>PySparkShell</code></dd>\n",
       "            </dl>\n",
       "        </div>\n",
       "        "
      ],
      "text/plain": [
       "<SparkContext master=local[*] appName=PySparkShell>"
      ]
     },
     "execution_count": 2,
     "metadata": {},
     "output_type": "execute_result"
    }
   ],
   "source": [
    "sc"
   ]
  },
  {
   "cell_type": "markdown",
   "metadata": {},
   "source": [
    "#### Structured Streaming of topics using Apache Kafka and Spark SQL API\n",
    "\n",
    "##### Below lines Spark SQL’s API calls leveraged to consume and transform data streams from Apache Kafka. We use Kafka to organize data into topics."
   ]
  },
  {
   "cell_type": "code",
   "execution_count": 3,
   "metadata": {
    "collapsed": true
   },
   "outputs": [],
   "source": [
    "@udf('boolean')\n",
    "def is_purchase(event_as_json):\n",
    "    event = json.loads(event_as_json)\n",
    "    if event['event_type'] == 'purchase_sword':\n",
    "        return True\n",
    "    return False"
   ]
  },
  {
   "cell_type": "markdown",
   "metadata": {},
   "source": [
    "##### Construct a streaming DataFrame that reads from events"
   ]
  },
  {
   "cell_type": "code",
   "execution_count": 4,
   "metadata": {
    "collapsed": true
   },
   "outputs": [],
   "source": [
    "raw_events = spark \\\n",
    "        .read \\\n",
    "        .format(\"kafka\") \\\n",
    "        .option(\"kafka.bootstrap.servers\", \"kafka:29092\") \\\n",
    "        .option(\"subscribe\", \"events\") \\\n",
    "        .option(\"startingOffsets\", \"earliest\") \\\n",
    "        .option(\"endingOffsets\", \"latest\") \\\n",
    "        .load()"
   ]
  },
  {
   "cell_type": "code",
   "execution_count": 5,
   "metadata": {
    "collapsed": true
   },
   "outputs": [],
   "source": [
    "purchase_events = raw_events \\\n",
    "    .select(raw_events.value.cast('string').alias('raw'),\n",
    "            raw_events.timestamp.cast('string')) \\\n",
    "    .filter(is_purchase('raw'))"
   ]
  },
  {
   "cell_type": "code",
   "execution_count": 6,
   "metadata": {
    "collapsed": true
   },
   "outputs": [],
   "source": [
    "extracted_purchase_events = purchase_events \\\n",
    "    .rdd \\\n",
    "    .map(lambda r: Row(timestamp=r.timestamp, **json.loads(r.raw))) \\\n",
    "    .toDF()"
   ]
  },
  {
   "cell_type": "markdown",
   "metadata": {},
   "source": [
    "##### printSchema() reveals the schema of our DataFrame"
   ]
  },
  {
   "cell_type": "code",
   "execution_count": 7,
   "metadata": {},
   "outputs": [
    {
     "name": "stdout",
     "output_type": "stream",
     "text": [
      "root\n",
      " |-- Accept: string (nullable = true)\n",
      " |-- Host: string (nullable = true)\n",
      " |-- User-Agent: string (nullable = true)\n",
      " |-- event_type: string (nullable = true)\n",
      " |-- timestamp: string (nullable = true)\n",
      "\n"
     ]
    }
   ],
   "source": [
    "extracted_purchase_events.printSchema()"
   ]
  },
  {
   "cell_type": "code",
   "execution_count": 8,
   "metadata": {},
   "outputs": [
    {
     "name": "stdout",
     "output_type": "stream",
     "text": [
      "+------+-----------------+---------------+--------------+--------------------+\n",
      "|Accept|             Host|     User-Agent|    event_type|           timestamp|\n",
      "+------+-----------------+---------------+--------------+--------------------+\n",
      "|   */*|    user2.att.com|ApacheBench/2.3|purchase_sword|2020-04-16 21:57:...|\n",
      "|   */*|    user2.att.com|ApacheBench/2.3|purchase_sword|2020-04-16 21:57:...|\n",
      "|   */*|    user2.att.com|ApacheBench/2.3|purchase_sword|2020-04-16 21:57:...|\n",
      "|   */*|    user2.att.com|ApacheBench/2.3|purchase_sword|2020-04-16 21:57:...|\n",
      "|   */*|    user2.att.com|ApacheBench/2.3|purchase_sword|2020-04-16 21:57:...|\n",
      "|   */*|    user2.att.com|ApacheBench/2.3|purchase_sword|2020-04-16 21:57:...|\n",
      "|   */*|    user2.att.com|ApacheBench/2.3|purchase_sword|2020-04-16 21:57:...|\n",
      "|   */*|    user2.att.com|ApacheBench/2.3|purchase_sword|2020-04-16 21:57:...|\n",
      "|   */*|    user2.att.com|ApacheBench/2.3|purchase_sword|2020-04-16 21:57:...|\n",
      "|   */*|    user2.att.com|ApacheBench/2.3|purchase_sword|2020-04-16 21:57:...|\n",
      "|   */*|user1.comcast.com|ApacheBench/2.3|purchase_sword|2020-04-16 23:00:...|\n",
      "|   */*|user1.comcast.com|ApacheBench/2.3|purchase_sword|2020-04-16 23:00:...|\n",
      "|   */*|user1.comcast.com|ApacheBench/2.3|purchase_sword|2020-04-16 23:00:...|\n",
      "|   */*|user1.comcast.com|ApacheBench/2.3|purchase_sword|2020-04-16 23:00:...|\n",
      "|   */*|user1.comcast.com|ApacheBench/2.3|purchase_sword|2020-04-16 23:00:...|\n",
      "|   */*|user1.comcast.com|ApacheBench/2.3|purchase_sword|2020-04-16 23:00:...|\n",
      "|   */*|user1.comcast.com|ApacheBench/2.3|purchase_sword|2020-04-16 23:00:...|\n",
      "|   */*|user1.comcast.com|ApacheBench/2.3|purchase_sword|2020-04-16 23:00:...|\n",
      "|   */*|user1.comcast.com|ApacheBench/2.3|purchase_sword|2020-04-16 23:00:...|\n",
      "|   */*|user1.comcast.com|ApacheBench/2.3|purchase_sword|2020-04-16 23:00:...|\n",
      "+------+-----------------+---------------+--------------+--------------------+\n",
      "only showing top 20 rows\n",
      "\n"
     ]
    }
   ],
   "source": [
    "extracted_purchase_events.show()"
   ]
  },
  {
   "cell_type": "markdown",
   "metadata": {},
   "source": [
    "##### Writing event log into HDFS/parquet files under /tmp/purchases "
   ]
  },
  {
   "cell_type": "code",
   "execution_count": 9,
   "metadata": {
    "collapsed": true
   },
   "outputs": [],
   "source": [
    "extracted_purchase_events \\\n",
    "    .write \\\n",
    "    .mode('overwrite') \\\n",
    "    .parquet('/tmp/purchases')"
   ]
  },
  {
   "cell_type": "markdown",
   "metadata": {},
   "source": [
    "##### Following series of PYSpark codes read from the parquet files into a spark dataframe, register as a temp table (`Purchases`), and execute sql queries agains the dataframe in memory, finally converting those to Pandas dataframe for easy visualization"
   ]
  },
  {
   "cell_type": "code",
   "execution_count": 10,
   "metadata": {
    "collapsed": true
   },
   "outputs": [],
   "source": [
    "purchases = spark.read.parquet('/tmp/purchases')\n"
   ]
  },
  {
   "cell_type": "code",
   "execution_count": 11,
   "metadata": {},
   "outputs": [
    {
     "name": "stdout",
     "output_type": "stream",
     "text": [
      "+------+-----------------+---------------+--------------+--------------------+\n",
      "|Accept|             Host|     User-Agent|    event_type|           timestamp|\n",
      "+------+-----------------+---------------+--------------+--------------------+\n",
      "|   */*|    user2.att.com|ApacheBench/2.3|purchase_sword|2020-04-16 21:57:...|\n",
      "|   */*|    user2.att.com|ApacheBench/2.3|purchase_sword|2020-04-16 21:57:...|\n",
      "|   */*|    user2.att.com|ApacheBench/2.3|purchase_sword|2020-04-16 21:57:...|\n",
      "|   */*|    user2.att.com|ApacheBench/2.3|purchase_sword|2020-04-16 21:57:...|\n",
      "|   */*|    user2.att.com|ApacheBench/2.3|purchase_sword|2020-04-16 21:57:...|\n",
      "|   */*|    user2.att.com|ApacheBench/2.3|purchase_sword|2020-04-16 21:57:...|\n",
      "|   */*|    user2.att.com|ApacheBench/2.3|purchase_sword|2020-04-16 21:57:...|\n",
      "|   */*|    user2.att.com|ApacheBench/2.3|purchase_sword|2020-04-16 21:57:...|\n",
      "|   */*|    user2.att.com|ApacheBench/2.3|purchase_sword|2020-04-16 21:57:...|\n",
      "|   */*|    user2.att.com|ApacheBench/2.3|purchase_sword|2020-04-16 21:57:...|\n",
      "|   */*|user1.comcast.com|ApacheBench/2.3|purchase_sword|2020-04-16 23:00:...|\n",
      "|   */*|user1.comcast.com|ApacheBench/2.3|purchase_sword|2020-04-16 23:00:...|\n",
      "|   */*|user1.comcast.com|ApacheBench/2.3|purchase_sword|2020-04-16 23:00:...|\n",
      "|   */*|user1.comcast.com|ApacheBench/2.3|purchase_sword|2020-04-16 23:00:...|\n",
      "|   */*|user1.comcast.com|ApacheBench/2.3|purchase_sword|2020-04-16 23:00:...|\n",
      "|   */*|user1.comcast.com|ApacheBench/2.3|purchase_sword|2020-04-16 23:00:...|\n",
      "|   */*|user1.comcast.com|ApacheBench/2.3|purchase_sword|2020-04-16 23:00:...|\n",
      "|   */*|user1.comcast.com|ApacheBench/2.3|purchase_sword|2020-04-16 23:00:...|\n",
      "|   */*|user1.comcast.com|ApacheBench/2.3|purchase_sword|2020-04-16 23:00:...|\n",
      "|   */*|user1.comcast.com|ApacheBench/2.3|purchase_sword|2020-04-16 23:00:...|\n",
      "+------+-----------------+---------------+--------------+--------------------+\n",
      "only showing top 20 rows\n",
      "\n"
     ]
    }
   ],
   "source": [
    "purchases.show()"
   ]
  },
  {
   "cell_type": "code",
   "execution_count": 12,
   "metadata": {
    "collapsed": true
   },
   "outputs": [],
   "source": [
    "purchases.registerTempTable('purchases')"
   ]
  },
  {
   "cell_type": "code",
   "execution_count": 13,
   "metadata": {
    "collapsed": true
   },
   "outputs": [],
   "source": [
    "purchases_by_example2 = spark.sql(\"select * from purchases where Host = 'user1.comcast.com'\")"
   ]
  },
  {
   "cell_type": "code",
   "execution_count": 14,
   "metadata": {},
   "outputs": [
    {
     "name": "stdout",
     "output_type": "stream",
     "text": [
      "+------+-----------------+---------------+--------------+--------------------+\n",
      "|Accept|             Host|     User-Agent|    event_type|           timestamp|\n",
      "+------+-----------------+---------------+--------------+--------------------+\n",
      "|   */*|user1.comcast.com|ApacheBench/2.3|purchase_sword|2020-04-16 23:00:...|\n",
      "|   */*|user1.comcast.com|ApacheBench/2.3|purchase_sword|2020-04-16 23:00:...|\n",
      "|   */*|user1.comcast.com|ApacheBench/2.3|purchase_sword|2020-04-16 23:00:...|\n",
      "|   */*|user1.comcast.com|ApacheBench/2.3|purchase_sword|2020-04-16 23:00:...|\n",
      "|   */*|user1.comcast.com|ApacheBench/2.3|purchase_sword|2020-04-16 23:00:...|\n",
      "|   */*|user1.comcast.com|ApacheBench/2.3|purchase_sword|2020-04-16 23:00:...|\n",
      "|   */*|user1.comcast.com|ApacheBench/2.3|purchase_sword|2020-04-16 23:00:...|\n",
      "|   */*|user1.comcast.com|ApacheBench/2.3|purchase_sword|2020-04-16 23:00:...|\n",
      "|   */*|user1.comcast.com|ApacheBench/2.3|purchase_sword|2020-04-16 23:00:...|\n",
      "|   */*|user1.comcast.com|ApacheBench/2.3|purchase_sword|2020-04-16 23:00:...|\n",
      "+------+-----------------+---------------+--------------+--------------------+\n",
      "\n"
     ]
    }
   ],
   "source": [
    "purchases_by_example2.show()"
   ]
  },
  {
   "cell_type": "code",
   "execution_count": 15,
   "metadata": {
    "collapsed": true
   },
   "outputs": [],
   "source": [
    "df = purchases_by_example2.toPandas()"
   ]
  },
  {
   "cell_type": "code",
   "execution_count": 17,
   "metadata": {},
   "outputs": [
    {
     "data": {
      "text/html": [
       "<div>\n",
       "<style>\n",
       "    .dataframe thead tr:only-child th {\n",
       "        text-align: right;\n",
       "    }\n",
       "\n",
       "    .dataframe thead th {\n",
       "        text-align: left;\n",
       "    }\n",
       "\n",
       "    .dataframe tbody tr th {\n",
       "        vertical-align: top;\n",
       "    }\n",
       "</style>\n",
       "<table border=\"1\" class=\"dataframe\">\n",
       "  <thead>\n",
       "    <tr style=\"text-align: right;\">\n",
       "      <th></th>\n",
       "      <th>Accept</th>\n",
       "      <th>Host</th>\n",
       "      <th>User-Agent</th>\n",
       "      <th>event_type</th>\n",
       "      <th>timestamp</th>\n",
       "    </tr>\n",
       "  </thead>\n",
       "  <tbody>\n",
       "    <tr>\n",
       "      <th>0</th>\n",
       "      <td>*/*</td>\n",
       "      <td>user1.comcast.com</td>\n",
       "      <td>ApacheBench/2.3</td>\n",
       "      <td>purchase_sword</td>\n",
       "      <td>2020-04-16 23:00:10.39</td>\n",
       "    </tr>\n",
       "    <tr>\n",
       "      <th>1</th>\n",
       "      <td>*/*</td>\n",
       "      <td>user1.comcast.com</td>\n",
       "      <td>ApacheBench/2.3</td>\n",
       "      <td>purchase_sword</td>\n",
       "      <td>2020-04-16 23:00:10.395</td>\n",
       "    </tr>\n",
       "    <tr>\n",
       "      <th>2</th>\n",
       "      <td>*/*</td>\n",
       "      <td>user1.comcast.com</td>\n",
       "      <td>ApacheBench/2.3</td>\n",
       "      <td>purchase_sword</td>\n",
       "      <td>2020-04-16 23:00:10.399</td>\n",
       "    </tr>\n",
       "    <tr>\n",
       "      <th>3</th>\n",
       "      <td>*/*</td>\n",
       "      <td>user1.comcast.com</td>\n",
       "      <td>ApacheBench/2.3</td>\n",
       "      <td>purchase_sword</td>\n",
       "      <td>2020-04-16 23:00:10.403</td>\n",
       "    </tr>\n",
       "    <tr>\n",
       "      <th>4</th>\n",
       "      <td>*/*</td>\n",
       "      <td>user1.comcast.com</td>\n",
       "      <td>ApacheBench/2.3</td>\n",
       "      <td>purchase_sword</td>\n",
       "      <td>2020-04-16 23:00:10.407</td>\n",
       "    </tr>\n",
       "    <tr>\n",
       "      <th>5</th>\n",
       "      <td>*/*</td>\n",
       "      <td>user1.comcast.com</td>\n",
       "      <td>ApacheBench/2.3</td>\n",
       "      <td>purchase_sword</td>\n",
       "      <td>2020-04-16 23:00:10.413</td>\n",
       "    </tr>\n",
       "    <tr>\n",
       "      <th>6</th>\n",
       "      <td>*/*</td>\n",
       "      <td>user1.comcast.com</td>\n",
       "      <td>ApacheBench/2.3</td>\n",
       "      <td>purchase_sword</td>\n",
       "      <td>2020-04-16 23:00:10.417</td>\n",
       "    </tr>\n",
       "    <tr>\n",
       "      <th>7</th>\n",
       "      <td>*/*</td>\n",
       "      <td>user1.comcast.com</td>\n",
       "      <td>ApacheBench/2.3</td>\n",
       "      <td>purchase_sword</td>\n",
       "      <td>2020-04-16 23:00:10.423</td>\n",
       "    </tr>\n",
       "    <tr>\n",
       "      <th>8</th>\n",
       "      <td>*/*</td>\n",
       "      <td>user1.comcast.com</td>\n",
       "      <td>ApacheBench/2.3</td>\n",
       "      <td>purchase_sword</td>\n",
       "      <td>2020-04-16 23:00:10.427</td>\n",
       "    </tr>\n",
       "    <tr>\n",
       "      <th>9</th>\n",
       "      <td>*/*</td>\n",
       "      <td>user1.comcast.com</td>\n",
       "      <td>ApacheBench/2.3</td>\n",
       "      <td>purchase_sword</td>\n",
       "      <td>2020-04-16 23:00:10.43</td>\n",
       "    </tr>\n",
       "  </tbody>\n",
       "</table>\n",
       "</div>"
      ],
      "text/plain": [
       "  Accept               Host       User-Agent      event_type  \\\n",
       "0    */*  user1.comcast.com  ApacheBench/2.3  purchase_sword   \n",
       "1    */*  user1.comcast.com  ApacheBench/2.3  purchase_sword   \n",
       "2    */*  user1.comcast.com  ApacheBench/2.3  purchase_sword   \n",
       "3    */*  user1.comcast.com  ApacheBench/2.3  purchase_sword   \n",
       "4    */*  user1.comcast.com  ApacheBench/2.3  purchase_sword   \n",
       "5    */*  user1.comcast.com  ApacheBench/2.3  purchase_sword   \n",
       "6    */*  user1.comcast.com  ApacheBench/2.3  purchase_sword   \n",
       "7    */*  user1.comcast.com  ApacheBench/2.3  purchase_sword   \n",
       "8    */*  user1.comcast.com  ApacheBench/2.3  purchase_sword   \n",
       "9    */*  user1.comcast.com  ApacheBench/2.3  purchase_sword   \n",
       "\n",
       "                 timestamp  \n",
       "0   2020-04-16 23:00:10.39  \n",
       "1  2020-04-16 23:00:10.395  \n",
       "2  2020-04-16 23:00:10.399  \n",
       "3  2020-04-16 23:00:10.403  \n",
       "4  2020-04-16 23:00:10.407  \n",
       "5  2020-04-16 23:00:10.413  \n",
       "6  2020-04-16 23:00:10.417  \n",
       "7  2020-04-16 23:00:10.423  \n",
       "8  2020-04-16 23:00:10.427  \n",
       "9   2020-04-16 23:00:10.43  "
      ]
     },
     "execution_count": 17,
     "metadata": {},
     "output_type": "execute_result"
    }
   ],
   "source": [
    "df"
   ]
  },
  {
   "cell_type": "code",
   "execution_count": 16,
   "metadata": {},
   "outputs": [
    {
     "data": {
      "text/html": [
       "<div>\n",
       "<style>\n",
       "    .dataframe thead tr:only-child th {\n",
       "        text-align: right;\n",
       "    }\n",
       "\n",
       "    .dataframe thead th {\n",
       "        text-align: left;\n",
       "    }\n",
       "\n",
       "    .dataframe tbody tr th {\n",
       "        vertical-align: top;\n",
       "    }\n",
       "</style>\n",
       "<table border=\"1\" class=\"dataframe\">\n",
       "  <thead>\n",
       "    <tr style=\"text-align: right;\">\n",
       "      <th></th>\n",
       "      <th>Accept</th>\n",
       "      <th>Host</th>\n",
       "      <th>User-Agent</th>\n",
       "      <th>event_type</th>\n",
       "      <th>timestamp</th>\n",
       "    </tr>\n",
       "  </thead>\n",
       "  <tbody>\n",
       "    <tr>\n",
       "      <th>count</th>\n",
       "      <td>10</td>\n",
       "      <td>10</td>\n",
       "      <td>10</td>\n",
       "      <td>10</td>\n",
       "      <td>10</td>\n",
       "    </tr>\n",
       "    <tr>\n",
       "      <th>unique</th>\n",
       "      <td>1</td>\n",
       "      <td>1</td>\n",
       "      <td>1</td>\n",
       "      <td>1</td>\n",
       "      <td>10</td>\n",
       "    </tr>\n",
       "    <tr>\n",
       "      <th>top</th>\n",
       "      <td>*/*</td>\n",
       "      <td>user1.comcast.com</td>\n",
       "      <td>ApacheBench/2.3</td>\n",
       "      <td>purchase_sword</td>\n",
       "      <td>2020-04-16 23:00:10.427</td>\n",
       "    </tr>\n",
       "    <tr>\n",
       "      <th>freq</th>\n",
       "      <td>10</td>\n",
       "      <td>10</td>\n",
       "      <td>10</td>\n",
       "      <td>10</td>\n",
       "      <td>1</td>\n",
       "    </tr>\n",
       "  </tbody>\n",
       "</table>\n",
       "</div>"
      ],
      "text/plain": [
       "       Accept               Host       User-Agent      event_type  \\\n",
       "count      10                 10               10              10   \n",
       "unique      1                  1                1               1   \n",
       "top       */*  user1.comcast.com  ApacheBench/2.3  purchase_sword   \n",
       "freq       10                 10               10              10   \n",
       "\n",
       "                      timestamp  \n",
       "count                        10  \n",
       "unique                       10  \n",
       "top     2020-04-16 23:00:10.427  \n",
       "freq                          1  "
      ]
     },
     "execution_count": 16,
     "metadata": {},
     "output_type": "execute_result"
    }
   ],
   "source": [
    "df.describe()"
   ]
  },
  {
   "cell_type": "markdown",
   "metadata": {
    "collapsed": true
   },
   "source": [
    "### Analytical Questions:\n",
    "#### Produce an analytics report where you provide a description of your pipeline and some basic analysis of the events"
   ]
  },
  {
   "cell_type": "markdown",
   "metadata": {},
   "source": [
    "##### How many purchases were there from user 1 (requested via Comcast)?"
   ]
  },
  {
   "cell_type": "code",
   "execution_count": 23,
   "metadata": {},
   "outputs": [
    {
     "name": "stdout",
     "output_type": "stream",
     "text": [
      "+--------+\n",
      "|count(1)|\n",
      "+--------+\n",
      "|      10|\n",
      "+--------+\n",
      "\n"
     ]
    }
   ],
   "source": [
    "purchases_by_example2 = spark.sql(\"select count(*) from purchases where Host = 'user1.comcast.com'\").show()"
   ]
  },
  {
   "cell_type": "markdown",
   "metadata": {},
   "source": [
    "##### How many total user purchases were requested by all users?"
   ]
  },
  {
   "cell_type": "code",
   "execution_count": 25,
   "metadata": {},
   "outputs": [
    {
     "name": "stdout",
     "output_type": "stream",
     "text": [
      "+--------+\n",
      "|count(1)|\n",
      "+--------+\n",
      "|      30|\n",
      "+--------+\n",
      "\n"
     ]
    }
   ],
   "source": [
    "purchases_by_example2 = spark.sql(\"select count(1) from purchases\").show()"
   ]
  },
  {
   "cell_type": "markdown",
   "metadata": {},
   "source": [
    "##### How many purchases from user 2 (requested via AT&T)?"
   ]
  },
  {
   "cell_type": "code",
   "execution_count": 22,
   "metadata": {},
   "outputs": [
    {
     "name": "stdout",
     "output_type": "stream",
     "text": [
      "+--------+\n",
      "|count(1)|\n",
      "+--------+\n",
      "|      20|\n",
      "+--------+\n",
      "\n"
     ]
    }
   ],
   "source": [
    "purchases_by_example2 = spark.sql(\"select count(*) from purchases where Host = 'user2.att.com'\").show()"
   ]
  }
 ],
 "metadata": {
  "kernelspec": {
   "display_name": "Python 3",
   "language": "python",
   "name": "python3"
  },
  "language_info": {
   "codemirror_mode": {
    "name": "ipython",
    "version": 3
   },
   "file_extension": ".py",
   "mimetype": "text/x-python",
   "name": "python",
   "nbconvert_exporter": "python",
   "pygments_lexer": "ipython3",
   "version": "3.6.1"
  }
 },
 "nbformat": 4,
 "nbformat_minor": 2
}
