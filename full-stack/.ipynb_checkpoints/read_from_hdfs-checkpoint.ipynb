{
 "cells": [
  {
   "cell_type": "code",
   "execution_count": 1,
   "metadata": {
    "collapsed": true
   },
   "outputs": [],
   "source": [
    "purchases = spark.read.parquet('/tmp/purchases')\n",
    "\n"
   ]
  },
  {
   "cell_type": "code",
   "execution_count": 2,
   "metadata": {},
   "outputs": [
    {
     "name": "stdout",
     "output_type": "stream",
     "text": [
      "+------+-----------------+---------------+--------------+--------------------+\n",
      "|Accept|             Host|     User-Agent|    event_type|           timestamp|\n",
      "+------+-----------------+---------------+--------------+--------------------+\n",
      "|   */*|user1.comcast.com|ApacheBench/2.3|purchase_sword|2020-04-03 02:05:...|\n",
      "|   */*|user1.comcast.com|ApacheBench/2.3|purchase_sword|2020-04-03 02:05:...|\n",
      "|   */*|user1.comcast.com|ApacheBench/2.3|purchase_sword|2020-04-03 02:05:...|\n",
      "|   */*|user1.comcast.com|ApacheBench/2.3|purchase_sword|2020-04-03 02:05:...|\n",
      "|   */*|user1.comcast.com|ApacheBench/2.3|purchase_sword|2020-04-03 02:05:...|\n",
      "|   */*|user1.comcast.com|ApacheBench/2.3|purchase_sword|2020-04-03 02:05:...|\n",
      "|   */*|user1.comcast.com|ApacheBench/2.3|purchase_sword|2020-04-03 02:05:...|\n",
      "|   */*|user1.comcast.com|ApacheBench/2.3|purchase_sword|2020-04-03 02:05:...|\n",
      "|   */*|user1.comcast.com|ApacheBench/2.3|purchase_sword|2020-04-03 02:05:...|\n",
      "|   */*|user1.comcast.com|ApacheBench/2.3|purchase_sword|2020-04-03 02:05:...|\n",
      "|   */*|    user2.att.com|ApacheBench/2.3|purchase_sword|2020-04-03 02:06:...|\n",
      "|   */*|    user2.att.com|ApacheBench/2.3|purchase_sword|2020-04-03 02:06:...|\n",
      "|   */*|    user2.att.com|ApacheBench/2.3|purchase_sword|2020-04-03 02:06:...|\n",
      "|   */*|    user2.att.com|ApacheBench/2.3|purchase_sword|2020-04-03 02:06:...|\n",
      "|   */*|    user2.att.com|ApacheBench/2.3|purchase_sword|2020-04-03 02:06:...|\n",
      "|   */*|    user2.att.com|ApacheBench/2.3|purchase_sword|2020-04-03 02:06:...|\n",
      "|   */*|    user2.att.com|ApacheBench/2.3|purchase_sword|2020-04-03 02:06:...|\n",
      "|   */*|    user2.att.com|ApacheBench/2.3|purchase_sword|2020-04-03 02:06:...|\n",
      "|   */*|    user2.att.com|ApacheBench/2.3|purchase_sword|2020-04-03 02:06:...|\n",
      "|   */*|    user2.att.com|ApacheBench/2.3|purchase_sword|2020-04-03 02:06:...|\n",
      "+------+-----------------+---------------+--------------+--------------------+\n",
      "\n"
     ]
    }
   ],
   "source": [
    "purchases.show()\n"
   ]
  },
  {
   "cell_type": "code",
   "execution_count": 3,
   "metadata": {
    "collapsed": true
   },
   "outputs": [],
   "source": [
    "purchases.registerTempTable('purchases')\n"
   ]
  },
  {
   "cell_type": "code",
   "execution_count": 4,
   "metadata": {
    "collapsed": true
   },
   "outputs": [],
   "source": [
    "purchases_by_example2 = spark.sql(\"select * from purchases where Host = 'user1.comcast.com'\")\n"
   ]
  },
  {
   "cell_type": "code",
   "execution_count": 5,
   "metadata": {},
   "outputs": [
    {
     "name": "stdout",
     "output_type": "stream",
     "text": [
      "+------+-----------------+---------------+--------------+--------------------+\n",
      "|Accept|             Host|     User-Agent|    event_type|           timestamp|\n",
      "+------+-----------------+---------------+--------------+--------------------+\n",
      "|   */*|user1.comcast.com|ApacheBench/2.3|purchase_sword|2020-04-03 02:05:...|\n",
      "|   */*|user1.comcast.com|ApacheBench/2.3|purchase_sword|2020-04-03 02:05:...|\n",
      "|   */*|user1.comcast.com|ApacheBench/2.3|purchase_sword|2020-04-03 02:05:...|\n",
      "|   */*|user1.comcast.com|ApacheBench/2.3|purchase_sword|2020-04-03 02:05:...|\n",
      "|   */*|user1.comcast.com|ApacheBench/2.3|purchase_sword|2020-04-03 02:05:...|\n",
      "|   */*|user1.comcast.com|ApacheBench/2.3|purchase_sword|2020-04-03 02:05:...|\n",
      "|   */*|user1.comcast.com|ApacheBench/2.3|purchase_sword|2020-04-03 02:05:...|\n",
      "|   */*|user1.comcast.com|ApacheBench/2.3|purchase_sword|2020-04-03 02:05:...|\n",
      "|   */*|user1.comcast.com|ApacheBench/2.3|purchase_sword|2020-04-03 02:05:...|\n",
      "|   */*|user1.comcast.com|ApacheBench/2.3|purchase_sword|2020-04-03 02:05:...|\n",
      "+------+-----------------+---------------+--------------+--------------------+\n",
      "\n"
     ]
    }
   ],
   "source": [
    "purchases_by_example2.show()\n"
   ]
  },
  {
   "cell_type": "code",
   "execution_count": 6,
   "metadata": {
    "collapsed": true
   },
   "outputs": [],
   "source": [
    "df = purchases_by_example2.toPandas()\n"
   ]
  },
  {
   "cell_type": "code",
   "execution_count": 7,
   "metadata": {},
   "outputs": [
    {
     "data": {
      "text/html": [
       "<div>\n",
       "<style>\n",
       "    .dataframe thead tr:only-child th {\n",
       "        text-align: right;\n",
       "    }\n",
       "\n",
       "    .dataframe thead th {\n",
       "        text-align: left;\n",
       "    }\n",
       "\n",
       "    .dataframe tbody tr th {\n",
       "        vertical-align: top;\n",
       "    }\n",
       "</style>\n",
       "<table border=\"1\" class=\"dataframe\">\n",
       "  <thead>\n",
       "    <tr style=\"text-align: right;\">\n",
       "      <th></th>\n",
       "      <th>Accept</th>\n",
       "      <th>Host</th>\n",
       "      <th>User-Agent</th>\n",
       "      <th>event_type</th>\n",
       "      <th>timestamp</th>\n",
       "    </tr>\n",
       "  </thead>\n",
       "  <tbody>\n",
       "    <tr>\n",
       "      <th>count</th>\n",
       "      <td>10</td>\n",
       "      <td>10</td>\n",
       "      <td>10</td>\n",
       "      <td>10</td>\n",
       "      <td>10</td>\n",
       "    </tr>\n",
       "    <tr>\n",
       "      <th>unique</th>\n",
       "      <td>1</td>\n",
       "      <td>1</td>\n",
       "      <td>1</td>\n",
       "      <td>1</td>\n",
       "      <td>10</td>\n",
       "    </tr>\n",
       "    <tr>\n",
       "      <th>top</th>\n",
       "      <td>*/*</td>\n",
       "      <td>user1.comcast.com</td>\n",
       "      <td>ApacheBench/2.3</td>\n",
       "      <td>purchase_sword</td>\n",
       "      <td>2020-04-03 02:05:49.431</td>\n",
       "    </tr>\n",
       "    <tr>\n",
       "      <th>freq</th>\n",
       "      <td>10</td>\n",
       "      <td>10</td>\n",
       "      <td>10</td>\n",
       "      <td>10</td>\n",
       "      <td>1</td>\n",
       "    </tr>\n",
       "  </tbody>\n",
       "</table>\n",
       "</div>"
      ],
      "text/plain": [
       "       Accept               Host       User-Agent      event_type  \\\n",
       "count      10                 10               10              10   \n",
       "unique      1                  1                1               1   \n",
       "top       */*  user1.comcast.com  ApacheBench/2.3  purchase_sword   \n",
       "freq       10                 10               10              10   \n",
       "\n",
       "                      timestamp  \n",
       "count                        10  \n",
       "unique                       10  \n",
       "top     2020-04-03 02:05:49.431  \n",
       "freq                          1  "
      ]
     },
     "execution_count": 7,
     "metadata": {},
     "output_type": "execute_result"
    }
   ],
   "source": [
    "df.describe()\n"
   ]
  },
  {
   "cell_type": "code",
   "execution_count": null,
   "metadata": {
    "collapsed": true
   },
   "outputs": [],
   "source": []
  }
 ],
 "metadata": {
  "kernelspec": {
   "display_name": "Python 3",
   "language": "python",
   "name": "python3"
  },
  "language_info": {
   "codemirror_mode": {
    "name": "ipython",
    "version": 3
   },
   "file_extension": ".py",
   "mimetype": "text/x-python",
   "name": "python",
   "nbconvert_exporter": "python",
   "pygments_lexer": "ipython3",
   "version": "3.6.1"
  }
 },
 "nbformat": 4,
 "nbformat_minor": 2
}
